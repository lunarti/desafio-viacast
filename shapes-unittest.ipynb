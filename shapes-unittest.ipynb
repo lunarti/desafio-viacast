{
 "cells": [
  {
   "cell_type": "code",
   "execution_count": 8,
   "metadata": {},
   "outputs": [],
   "source": [
    "from math import *\n",
    "\n",
    "class Rectangle:\n",
    "  def __init__(this, width, height):\n",
    "    this.width = width\n",
    "    this.height = height\n",
    "\n",
    "  def perimeter(this):\n",
    "    return 2*this.width + 2*this.height\n",
    "\n",
    "  @property\n",
    "  def area(this):\n",
    "    return this.width*this.height\n",
    "\n",
    "\n",
    "class IsoscelesTriangle:\n",
    "  def __init__(this, base, height):\n",
    "    this.base = base\n",
    "    this.height = height\n",
    "\n",
    "  def perimeter(this):\n",
    "    side = sqrt((this.height**2) + ((this.base/2)**2))\n",
    "    return 2*side + this.base\n",
    "\n",
    "  @property\n",
    "  def area(this):\n",
    "    return this.base*this.height/2\n",
    "\n",
    "\n",
    "class Circle:\n",
    "  def __init__(this, radius):\n",
    "    this.radius = radius\n",
    "\n",
    "  def perimeter(this):\n",
    "    return 2*pi*this.radius\n",
    "\n",
    "  @property\n",
    "  def area(this):\n",
    "    return pi*this.radius**2"
   ]
  },
  {
   "cell_type": "code",
   "execution_count": 4,
   "metadata": {},
   "outputs": [
    {
     "name": "stdout",
     "output_type": "stream",
     "text": [
      "True\n",
      "True\n"
     ]
    }
   ],
   "source": [
    "rec=Rectangle(10,5)\n",
    "print(50==rec.area)\n",
    "print(30==rec.perimeter())\n"
   ]
  },
  {
   "cell_type": "code",
   "execution_count": 5,
   "metadata": {},
   "outputs": [
    {
     "name": "stdout",
     "output_type": "stream",
     "text": [
      "True\n",
      "True\n"
     ]
    }
   ],
   "source": [
    "rec=Rectangle(10,-5)\n",
    "print(-50==rec.area)\n",
    "print(10==rec.perimeter())"
   ]
  },
  {
   "cell_type": "code",
   "execution_count": 9,
   "metadata": {},
   "outputs": [
    {
     "name": "stdout",
     "output_type": "stream",
     "text": [
      "True\n",
      "24.14213562373095\n"
     ]
    }
   ],
   "source": [
    "iso=IsoscelesTriangle(10,5)\n",
    "print(25==iso.area)\n",
    "print(iso.perimeter())"
   ]
  },
  {
   "cell_type": "code",
   "execution_count": 12,
   "metadata": {},
   "outputs": [
    {
     "name": "stdout",
     "output_type": "stream",
     "text": [
      "True\n",
      "True\n"
     ]
    }
   ],
   "source": [
    "circ=Circle(5)\n",
    "print(2*pi*5==circ.perimeter())\n",
    "print(pi*5*5==circ.area)"
   ]
  }
 ],
 "metadata": {
  "interpreter": {
   "hash": "3d86adfb6bd35c5260e474f631bbf002f1a2f75a3f4602739dc597cff0f8e384"
  },
  "kernelspec": {
   "display_name": "Python 3.9.7 ('base')",
   "language": "python",
   "name": "python3"
  },
  "language_info": {
   "codemirror_mode": {
    "name": "ipython",
    "version": 3
   },
   "file_extension": ".py",
   "mimetype": "text/x-python",
   "name": "python",
   "nbconvert_exporter": "python",
   "pygments_lexer": "ipython3",
   "version": "3.9.7"
  },
  "orig_nbformat": 4
 },
 "nbformat": 4,
 "nbformat_minor": 2
}
